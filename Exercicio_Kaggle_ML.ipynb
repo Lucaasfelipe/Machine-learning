{
 "cells": [
  {
   "cell_type": "markdown",
   "metadata": {
    "papermill": {
     "duration": 0.016154,
     "end_time": "2021-01-15T02:38:06.664805",
     "exception": false,
     "start_time": "2021-01-15T02:38:06.648651",
     "status": "completed"
    },
    "tags": []
   },
   "source": [
    "**This notebook is an exercise in the [Introduction to Machine Learning](https://www.kaggle.com/learn/intro-to-machine-learning) course.  You can reference the tutorial at [this link](https://www.kaggle.com/dansbecker/your-first-machine-learning-model).**\n",
    "\n",
    "---\n"
   ]
  },
  {
   "cell_type": "markdown",
   "metadata": {
    "papermill": {
     "duration": 0.012714,
     "end_time": "2021-01-15T02:38:06.690515",
     "exception": false,
     "start_time": "2021-01-15T02:38:06.677801",
     "status": "completed"
    },
    "tags": []
   },
   "source": [
    "## Recap\n",
    "So far, you have loaded your data and reviewed it with the following code. Run this cell to set up your coding environment where the previous step left off."
   ]
  },
  {
   "cell_type": "code",
   "execution_count": 1,
   "metadata": {
    "execution": {
     "iopub.execute_input": "2021-01-15T02:38:06.727668Z",
     "iopub.status.busy": "2021-01-15T02:38:06.726931Z",
     "iopub.status.idle": "2021-01-15T02:38:08.315058Z",
     "shell.execute_reply": "2021-01-15T02:38:08.313165Z"
    },
    "papermill": {
     "duration": 1.611562,
     "end_time": "2021-01-15T02:38:08.315194",
     "exception": false,
     "start_time": "2021-01-15T02:38:06.703632",
     "status": "completed"
    },
    "tags": []
   },
   "outputs": [
    {
     "name": "stdout",
     "output_type": "stream",
     "text": [
      "Setup Complete\n"
     ]
    }
   ],
   "source": [
    "# Importação da biblioteca 'panda' para análise dos dados. \n",
    "import pandas as pd\n",
    "\n",
    "# Buscar a pasta com o arquivo do tipo CSV.\n",
    "iowa_file_path = '../input/home-data-for-ml-course/train.csv'\n",
    "\n",
    "home_data = pd.read_csv(iowa_file_path)\n",
    "\n",
    "# Verifica se a biblioteca foi importada corretamente. \n",
    "from learntools.core import binder\n",
    "binder.bind(globals())\n",
    "from learntools.machine_learning.ex3 import *\n",
    "\n",
    "print(\"Setup Complete\")"
   ]
  },
  {
   "cell_type": "markdown",
   "metadata": {
    "papermill": {
     "duration": 0.013699,
     "end_time": "2021-01-15T02:38:08.344557",
     "exception": false,
     "start_time": "2021-01-15T02:38:08.330858",
     "status": "completed"
    },
    "tags": []
   },
   "source": [
    "# Exercises\n",
    "\n",
    "## Step 1: Specify Prediction Target\n",
    "Select the target variable, which corresponds to the sales price. Save this to a new variable called `y`. You'll need to print a list of the columns to find the name of the column you need.\n"
   ]
  },
  {
   "cell_type": "code",
   "execution_count": 2,
   "metadata": {
    "execution": {
     "iopub.execute_input": "2021-01-15T02:38:08.389186Z",
     "iopub.status.busy": "2021-01-15T02:38:08.388511Z",
     "iopub.status.idle": "2021-01-15T02:38:08.392644Z",
     "shell.execute_reply": "2021-01-15T02:38:08.392117Z"
    },
    "papermill": {
     "duration": 0.034246,
     "end_time": "2021-01-15T02:38:08.392759",
     "exception": false,
     "start_time": "2021-01-15T02:38:08.358513",
     "status": "completed"
    },
    "tags": []
   },
   "outputs": [
    {
     "data": {
      "text/plain": [
       "0       208500\n",
       "1       181500\n",
       "2       223500\n",
       "3       140000\n",
       "4       250000\n",
       "         ...  \n",
       "1455    175000\n",
       "1456    210000\n",
       "1457    266500\n",
       "1458    142125\n",
       "1459    147500\n",
       "Name: SalePrice, Length: 1460, dtype: int64"
      ]
     },
     "execution_count": 2,
     "metadata": {},
     "output_type": "execute_result"
    }
   ],
   "source": [
    "# Imprimir somente a coluna 'SalePrice' do DATASET 'home_data'\n",
    "home_data['SalePrice']\n",
    "\n"
   ]
  },
  {
   "cell_type": "code",
   "execution_count": 3,
   "metadata": {
    "execution": {
     "iopub.execute_input": "2021-01-15T02:38:08.427561Z",
     "iopub.status.busy": "2021-01-15T02:38:08.426806Z",
     "iopub.status.idle": "2021-01-15T02:38:08.431667Z",
     "shell.execute_reply": "2021-01-15T02:38:08.432224Z"
    },
    "papermill": {
     "duration": 0.02512,
     "end_time": "2021-01-15T02:38:08.432381",
     "exception": false,
     "start_time": "2021-01-15T02:38:08.407261",
     "status": "completed"
    },
    "tags": []
   },
   "outputs": [
    {
     "data": {
      "application/javascript": [
       "parent.postMessage({\"jupyterEvent\": \"custom.exercise_interaction\", \"data\": {\"outcomeType\": 1, \"valueTowardsCompletion\": 0.25, \"interactionType\": 1, \"questionType\": 2, \"questionId\": \"1_SetTarget\", \"learnToolsVersion\": \"0.3.4\", \"failureMessage\": \"\", \"exceptionClass\": \"\", \"trace\": \"\"}}, \"*\")"
      ],
      "text/plain": [
       "<IPython.core.display.Javascript object>"
      ]
     },
     "metadata": {},
     "output_type": "display_data"
    },
    {
     "data": {
      "text/markdown": [
       "<span style=\"color:#33cc33\">Correct</span>"
      ],
      "text/plain": [
       "Correct"
      ]
     },
     "metadata": {},
     "output_type": "display_data"
    }
   ],
   "source": [
    "# Acrescentado na váriavel 'y'a coluna 'SalePrice' do DATASET 'home_data'\n",
    "y = home_data['SalePrice']\n",
    "y\n",
    "# Verificação\n",
    "step_1.check()"
   ]
  },
  {
   "cell_type": "code",
   "execution_count": 4,
   "metadata": {
    "collapsed": true,
    "execution": {
     "iopub.execute_input": "2021-01-15T02:38:08.467188Z",
     "iopub.status.busy": "2021-01-15T02:38:08.466538Z",
     "iopub.status.idle": "2021-01-15T02:38:08.470965Z",
     "shell.execute_reply": "2021-01-15T02:38:08.470393Z"
    },
    "papermill": {
     "duration": 0.022454,
     "end_time": "2021-01-15T02:38:08.471074",
     "exception": false,
     "start_time": "2021-01-15T02:38:08.448620",
     "status": "completed"
    },
    "tags": []
   },
   "outputs": [],
   "source": [
    "# The lines below will show you a hint or the solution.\n",
    "# step_1.hint() \n",
    "# step_1.solution()"
   ]
  },
  {
   "cell_type": "markdown",
   "metadata": {
    "papermill": {
     "duration": 0.015373,
     "end_time": "2021-01-15T02:38:08.502122",
     "exception": false,
     "start_time": "2021-01-15T02:38:08.486749",
     "status": "completed"
    },
    "tags": []
   },
   "source": [
    "## Step 2: Create X\n",
    "Now you will create a DataFrame called `X` holding the predictive features.\n",
    "\n",
    "Since you want only some columns from the original data, you'll first create a list with the names of the columns you want in `X`.\n",
    "\n",
    "You'll use just the following columns in the list (you can copy and paste the whole list to save some typing, though you'll still need to add quotes):\n",
    "    * LotArea\n",
    "    * YearBuilt\n",
    "    * 1stFlrSF\n",
    "    * 2ndFlrSF\n",
    "    * FullBath\n",
    "    * BedroomAbvGr\n",
    "    * TotRmsAbvGrd\n",
    "\n",
    "After you've created that list of features, use it to create the DataFrame that you'll use to fit the model."
   ]
  },
  {
   "cell_type": "code",
   "execution_count": 5,
   "metadata": {
    "execution": {
     "iopub.execute_input": "2021-01-15T02:38:08.543810Z",
     "iopub.status.busy": "2021-01-15T02:38:08.542893Z",
     "iopub.status.idle": "2021-01-15T02:38:08.548402Z",
     "shell.execute_reply": "2021-01-15T02:38:08.548854Z"
    },
    "papermill": {
     "duration": 0.029917,
     "end_time": "2021-01-15T02:38:08.549005",
     "exception": false,
     "start_time": "2021-01-15T02:38:08.519088",
     "status": "completed"
    },
    "tags": []
   },
   "outputs": [
    {
     "data": {
      "application/javascript": [
       "parent.postMessage({\"jupyterEvent\": \"custom.exercise_interaction\", \"data\": {\"outcomeType\": 1, \"valueTowardsCompletion\": 0.25, \"interactionType\": 1, \"questionType\": 2, \"questionId\": \"2_SelectPredictionData\", \"learnToolsVersion\": \"0.3.4\", \"failureMessage\": \"\", \"exceptionClass\": \"\", \"trace\": \"\"}}, \"*\")"
      ],
      "text/plain": [
       "<IPython.core.display.Javascript object>"
      ]
     },
     "metadata": {},
     "output_type": "display_data"
    },
    {
     "data": {
      "text/markdown": [
       "<span style=\"color:#33cc33\">Correct</span>"
      ],
      "text/plain": [
       "Correct"
      ]
     },
     "metadata": {},
     "output_type": "display_data"
    }
   ],
   "source": [
    "# Criação de uma lista;\n",
    "feature_names = ['LotArea','YearBuilt','1stFlrSF', '2ndFlrSF', 'FullBath', 'BedroomAbvGr', 'TotRmsAbvGrd']\n",
    "feature_names\n",
    "\n",
    "# Selecionado a lista 'feature_names' e acrescentado no DATASET 'home_data'\n",
    "\n",
    "X = home_data[feature_names]\n",
    "X\n",
    "# Check your answer\n",
    "step_2.check()"
   ]
  },
  {
   "cell_type": "code",
   "execution_count": 6,
   "metadata": {
    "collapsed": true,
    "execution": {
     "iopub.execute_input": "2021-01-15T02:38:08.595041Z",
     "iopub.status.busy": "2021-01-15T02:38:08.593727Z",
     "iopub.status.idle": "2021-01-15T02:38:08.599754Z",
     "shell.execute_reply": "2021-01-15T02:38:08.598807Z"
    },
    "papermill": {
     "duration": 0.034327,
     "end_time": "2021-01-15T02:38:08.599925",
     "exception": false,
     "start_time": "2021-01-15T02:38:08.565598",
     "status": "completed"
    },
    "tags": []
   },
   "outputs": [],
   "source": [
    "# step_2.hint()\n",
    "# step_2.solution()"
   ]
  },
  {
   "cell_type": "markdown",
   "metadata": {
    "papermill": {
     "duration": 0.019435,
     "end_time": "2021-01-15T02:38:08.644216",
     "exception": false,
     "start_time": "2021-01-15T02:38:08.624781",
     "status": "completed"
    },
    "tags": []
   },
   "source": [
    "## Review Data\n",
    "Before building a model, take a quick look at **X** to verify it looks sensible"
   ]
  },
  {
   "cell_type": "code",
   "execution_count": 7,
   "metadata": {
    "execution": {
     "iopub.execute_input": "2021-01-15T02:38:08.693446Z",
     "iopub.status.busy": "2021-01-15T02:38:08.692445Z",
     "iopub.status.idle": "2021-01-15T02:38:08.696172Z",
     "shell.execute_reply": "2021-01-15T02:38:08.696864Z"
    },
    "papermill": {
     "duration": 0.034122,
     "end_time": "2021-01-15T02:38:08.697017",
     "exception": false,
     "start_time": "2021-01-15T02:38:08.662895",
     "status": "completed"
    },
    "tags": []
   },
   "outputs": [
    {
     "name": "stdout",
     "output_type": "stream",
     "text": [
      "      LotArea  YearBuilt  1stFlrSF  2ndFlrSF  FullBath  BedroomAbvGr  \\\n",
      "0        8450       2003       856       854         2             3   \n",
      "1        9600       1976      1262         0         2             3   \n",
      "2       11250       2001       920       866         2             3   \n",
      "3        9550       1915       961       756         1             3   \n",
      "4       14260       2000      1145      1053         2             4   \n",
      "...       ...        ...       ...       ...       ...           ...   \n",
      "1455     7917       1999       953       694         2             3   \n",
      "1456    13175       1978      2073         0         2             3   \n",
      "1457     9042       1941      1188      1152         2             4   \n",
      "1458     9717       1950      1078         0         1             2   \n",
      "1459     9937       1965      1256         0         1             3   \n",
      "\n",
      "      TotRmsAbvGrd  \n",
      "0                8  \n",
      "1                6  \n",
      "2                6  \n",
      "3                7  \n",
      "4                9  \n",
      "...            ...  \n",
      "1455             7  \n",
      "1456             7  \n",
      "1457             9  \n",
      "1458             5  \n",
      "1459             6  \n",
      "\n",
      "[1460 rows x 7 columns]\n"
     ]
    }
   ],
   "source": [
    "# Visualização dos dados. \n",
    "# print description or statistics from X\n",
    "print(X)\n",
    "\n",
    "# Imprimido somente as informações que se encontram no topo. \n",
    "#print(X.head)"
   ]
  },
  {
   "cell_type": "markdown",
   "metadata": {
    "papermill": {
     "duration": 0.017354,
     "end_time": "2021-01-15T02:38:08.733122",
     "exception": false,
     "start_time": "2021-01-15T02:38:08.715768",
     "status": "completed"
    },
    "tags": []
   },
   "source": [
    "## Step 3: Specify and Fit Model\n",
    "Create a `DecisionTreeRegressor` and save it iowa_model. Ensure you've done the relevant import from sklearn to run this command.\n",
    "\n",
    "Then fit the model you just created using the data in `X` and `y` that you saved above."
   ]
  },
  {
   "cell_type": "code",
   "execution_count": 8,
   "metadata": {
    "execution": {
     "iopub.execute_input": "2021-01-15T02:38:08.776843Z",
     "iopub.status.busy": "2021-01-15T02:38:08.776015Z",
     "iopub.status.idle": "2021-01-15T02:38:08.793242Z",
     "shell.execute_reply": "2021-01-15T02:38:08.792574Z"
    },
    "papermill": {
     "duration": 0.042793,
     "end_time": "2021-01-15T02:38:08.793369",
     "exception": false,
     "start_time": "2021-01-15T02:38:08.750576",
     "status": "completed"
    },
    "tags": []
   },
   "outputs": [
    {
     "data": {
      "application/javascript": [
       "parent.postMessage({\"jupyterEvent\": \"custom.exercise_interaction\", \"data\": {\"outcomeType\": 1, \"valueTowardsCompletion\": 0.25, \"interactionType\": 1, \"questionType\": 2, \"questionId\": \"3_CreateModel\", \"learnToolsVersion\": \"0.3.4\", \"failureMessage\": \"\", \"exceptionClass\": \"\", \"trace\": \"\"}}, \"*\")"
      ],
      "text/plain": [
       "<IPython.core.display.Javascript object>"
      ]
     },
     "metadata": {},
     "output_type": "display_data"
    },
    {
     "data": {
      "text/markdown": [
       "<span style=\"color:#33cc33\">Correct</span>"
      ],
      "text/plain": [
       "Correct"
      ]
     },
     "metadata": {},
     "output_type": "display_data"
    }
   ],
   "source": [
    "# Importar biblioteca para aprendizado de máquina. \n",
    "from sklearn.tree import DecisionTreeRegressor\n",
    "\n",
    "#A função 'random_state' é utilizado para que os valores fiquem aleatórios. \n",
    "iowa_model = DecisionTreeRegressor(random_state=1)\n",
    "iowa_model\n",
    "\n",
    "# Função FIT: A função de transformação aplica os valores dos parâmetros nos dados reais e fornece o valor normalizado. \n",
    "iowa_model.fit(X, y)\n",
    "\n",
    "# Verificação.\n",
    "step_3.check()"
   ]
  },
  {
   "cell_type": "code",
   "execution_count": 9,
   "metadata": {
    "collapsed": true,
    "execution": {
     "iopub.execute_input": "2021-01-15T02:38:08.837506Z",
     "iopub.status.busy": "2021-01-15T02:38:08.836528Z",
     "iopub.status.idle": "2021-01-15T02:38:08.839886Z",
     "shell.execute_reply": "2021-01-15T02:38:08.840431Z"
    },
    "papermill": {
     "duration": 0.027717,
     "end_time": "2021-01-15T02:38:08.840597",
     "exception": false,
     "start_time": "2021-01-15T02:38:08.812880",
     "status": "completed"
    },
    "tags": []
   },
   "outputs": [],
   "source": [
    "# step_3.hint()\n",
    "# step_3.solution()"
   ]
  },
  {
   "cell_type": "markdown",
   "metadata": {
    "papermill": {
     "duration": 0.01887,
     "end_time": "2021-01-15T02:38:08.878747",
     "exception": false,
     "start_time": "2021-01-15T02:38:08.859877",
     "status": "completed"
    },
    "tags": []
   },
   "source": [
    "## Step 4: Make Predictions\n",
    "Make predictions with the model's `predict` command using `X` as the data. Save the results to a variable called `predictions`."
   ]
  },
  {
   "cell_type": "code",
   "execution_count": 10,
   "metadata": {
    "execution": {
     "iopub.execute_input": "2021-01-15T02:38:08.927742Z",
     "iopub.status.busy": "2021-01-15T02:38:08.924637Z",
     "iopub.status.idle": "2021-01-15T02:38:08.937506Z",
     "shell.execute_reply": "2021-01-15T02:38:08.938201Z"
    },
    "papermill": {
     "duration": 0.040241,
     "end_time": "2021-01-15T02:38:08.938370",
     "exception": false,
     "start_time": "2021-01-15T02:38:08.898129",
     "status": "completed"
    },
    "tags": []
   },
   "outputs": [
    {
     "name": "stdout",
     "output_type": "stream",
     "text": [
      "[208500. 181500. 223500. ... 266500. 142125. 147500.]\n"
     ]
    },
    {
     "data": {
      "application/javascript": [
       "parent.postMessage({\"jupyterEvent\": \"custom.exercise_interaction\", \"data\": {\"outcomeType\": 1, \"valueTowardsCompletion\": 0.25, \"interactionType\": 1, \"questionType\": 2, \"questionId\": \"4_MakePredictions\", \"learnToolsVersion\": \"0.3.4\", \"failureMessage\": \"\", \"exceptionClass\": \"\", \"trace\": \"\"}}, \"*\")"
      ],
      "text/plain": [
       "<IPython.core.display.Javascript object>"
      ]
     },
     "metadata": {},
     "output_type": "display_data"
    },
    {
     "data": {
      "text/markdown": [
       "<span style=\"color:#33cc33\">Correct</span>"
      ],
      "text/plain": [
       "Correct"
      ]
     },
     "metadata": {},
     "output_type": "display_data"
    }
   ],
   "source": [
    "# Modelo Preditivo. \n",
    "predictions = iowa_model.predict(X)\n",
    "print(predictions)\n",
    "\n",
    "\n",
    "step_4.check()"
   ]
  },
  {
   "cell_type": "code",
   "execution_count": 11,
   "metadata": {
    "execution": {
     "iopub.execute_input": "2021-01-15T02:38:08.986662Z",
     "iopub.status.busy": "2021-01-15T02:38:08.985633Z",
     "iopub.status.idle": "2021-01-15T02:38:08.989089Z",
     "shell.execute_reply": "2021-01-15T02:38:08.988469Z"
    },
    "papermill": {
     "duration": 0.027741,
     "end_time": "2021-01-15T02:38:08.989199",
     "exception": false,
     "start_time": "2021-01-15T02:38:08.961458",
     "status": "completed"
    },
    "tags": []
   },
   "outputs": [],
   "source": [
    " #step_4.hint()\n",
    " #step_4.solution()"
   ]
  },
  {
   "cell_type": "markdown",
   "metadata": {
    "papermill": {
     "duration": 0.020052,
     "end_time": "2021-01-15T02:38:09.029606",
     "exception": false,
     "start_time": "2021-01-15T02:38:09.009554",
     "status": "completed"
    },
    "tags": []
   },
   "source": [
    "## Think About Your Results\n",
    "\n",
    "Use the `head` method to compare the top few predictions to the actual home values (in `y`) for those same homes. Anything surprising?\n"
   ]
  },
  {
   "cell_type": "code",
   "execution_count": 12,
   "metadata": {
    "execution": {
     "iopub.execute_input": "2021-01-15T02:38:09.073574Z",
     "iopub.status.busy": "2021-01-15T02:38:09.072896Z",
     "iopub.status.idle": "2021-01-15T02:38:09.080656Z",
     "shell.execute_reply": "2021-01-15T02:38:09.081226Z"
    },
    "papermill": {
     "duration": 0.031689,
     "end_time": "2021-01-15T02:38:09.081390",
     "exception": false,
     "start_time": "2021-01-15T02:38:09.049701",
     "status": "completed"
    },
    "tags": []
   },
   "outputs": [
    {
     "name": "stdout",
     "output_type": "stream",
     "text": [
      "<bound method BaseDecisionTree.predict of DecisionTreeRegressor(random_state=1)>\n"
     ]
    }
   ],
   "source": [
    "# You can write code in this cell\n",
    "predictions = iowa_model.predict\n",
    "print(predictions)"
   ]
  },
  {
   "cell_type": "markdown",
   "metadata": {
    "papermill": {
     "duration": 0.021382,
     "end_time": "2021-01-15T02:38:09.124598",
     "exception": false,
     "start_time": "2021-01-15T02:38:09.103216",
     "status": "completed"
    },
    "tags": []
   },
   "source": [
    "It's natural to ask how accurate the model's predictions will be and how you can improve that. That will be you're next step.\n",
    "\n",
    "# Keep Going\n",
    "\n",
    "You are ready for **[Model Validation](https://www.kaggle.com/dansbecker/model-validation).**\n"
   ]
  },
  {
   "cell_type": "markdown",
   "metadata": {
    "papermill": {
     "duration": 0.039157,
     "end_time": "2021-01-15T02:38:09.194568",
     "exception": false,
     "start_time": "2021-01-15T02:38:09.155411",
     "status": "completed"
    },
    "tags": []
   },
   "source": [
    "---\n",
    "\n",
    "\n",
    "\n",
    "\n",
    "*Have questions or comments? Visit the [Learn Discussion forum](https://www.kaggle.com/learn-forum/161285) to chat with other Learners.*"
   ]
  }
 ],
 "metadata": {
  "kernelspec": {
   "display_name": "Python 3",
   "language": "python",
   "name": "python3"
  },
  "language_info": {
   "codemirror_mode": {
    "name": "ipython",
    "version": 3
   },
   "file_extension": ".py",
   "mimetype": "text/x-python",
   "name": "python",
   "nbconvert_exporter": "python",
   "pygments_lexer": "ipython3",
   "version": "3.7.6"
  },
  "papermill": {
   "duration": 8.183159,
   "end_time": "2021-01-15T02:38:09.342484",
   "environment_variables": {},
   "exception": null,
   "input_path": "__notebook__.ipynb",
   "output_path": "__notebook__.ipynb",
   "parameters": {},
   "start_time": "2021-01-15T02:38:01.159325",
   "version": "2.1.0"
  }
 },
 "nbformat": 4,
 "nbformat_minor": 4
}
